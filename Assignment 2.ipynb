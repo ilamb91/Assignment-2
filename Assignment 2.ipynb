{
 "cells": [
  {
   "cell_type": "markdown",
   "id": "eeb4e6d7-4556-4f5b-8113-9473e463c039",
   "metadata": {},
   "source": [
    "Q1. How do you comment code in Python? What are the different types of comments?"
   ]
  },
  {
   "cell_type": "code",
   "execution_count": 3,
   "id": "16583aab-5a07-405f-8926-0937bc194c34",
   "metadata": {},
   "outputs": [],
   "source": [
    "#We can use comment code by using \"#\". Another way to comment in python is \"Ctrl + /\". There are three types of comments: single-line, multi-line, and docstring comments. The way comments are written depends on what kind they are."
   ]
  },
  {
   "cell_type": "code",
   "execution_count": 4,
   "id": "0e0b2ffc-2dc3-4ff7-b2c8-b8dea3eda538",
   "metadata": {},
   "outputs": [],
   "source": [
    "#single-line comment"
   ]
  },
  {
   "cell_type": "code",
   "execution_count": 5,
   "id": "fe8ca4f5-cf2f-4e49-9443-c631ec000856",
   "metadata": {},
   "outputs": [],
   "source": [
    "#Multi-line comment\n",
    "#We can use \"#\" for multiline comment."
   ]
  },
  {
   "cell_type": "code",
   "execution_count": 6,
   "id": "f7b9348b-dfbb-41f6-aff8-ca6f798651f5",
   "metadata": {},
   "outputs": [],
   "source": [
    "# comment using \"Ctrl + /\""
   ]
  },
  {
   "cell_type": "code",
   "execution_count": 9,
   "id": "62a36530-b910-4d67-af43-86f1ace5d82b",
   "metadata": {},
   "outputs": [
    {
     "data": {
      "text/plain": [
       "\"Even we can comment using three quotation marks, which called 'Docstrings' comment type\""
      ]
     },
     "execution_count": 9,
     "metadata": {},
     "output_type": "execute_result"
    }
   ],
   "source": [
    "'''Even we can comment using three quotation marks, which called 'Docstrings' comment type'''"
   ]
  },
  {
   "cell_type": "markdown",
   "id": "b6da44d4-efc4-4202-a3a1-ac757f409b25",
   "metadata": {},
   "source": [
    "One another way is there to comment in python which is using 'Markdown' function."
   ]
  },
  {
   "cell_type": "markdown",
   "id": "b25e4a74-6cf7-4a4c-8a43-285ee07224cc",
   "metadata": {},
   "source": [
    "Q2. What are variables in Python? How do you declare and assign values to variables?"
   ]
  },
  {
   "cell_type": "markdown",
   "id": "109d4286-24ef-4f75-8ca8-9d1954150f41",
   "metadata": {},
   "source": [
    "Ans Q2 - Python Variables are places in memory that store information, like numbers or text, that the Python Code can use later to do things. Example, if I want to write an integer number like 4, So I will write \"a = 4\", where \"a\" is variable. There are differnet types of variables like Integer, String, Float, Boolean, List, Dictionary, Tuple, Set."
   ]
  },
  {
   "cell_type": "markdown",
   "id": "b3f72952-b1f8-455c-8eb7-be6947c5ec72",
   "metadata": {},
   "source": [
    "Q2 (A) - How do you declare and assign values to variables?"
   ]
  },
  {
   "cell_type": "code",
   "execution_count": 10,
   "id": "15965832-c2c9-4110-b82e-d1fbff6d88ef",
   "metadata": {},
   "outputs": [],
   "source": [
    "#A2 (A) -  If I want to write an integer number like 4, So I will write \"a = 4\", where \"a\" is variable. "
   ]
  },
  {
   "cell_type": "code",
   "execution_count": 16,
   "id": "4187bb24-ebcf-4311-938f-f8dcf9e22b1f",
   "metadata": {},
   "outputs": [],
   "source": [
    "q2 = 4"
   ]
  },
  {
   "cell_type": "code",
   "execution_count": 17,
   "id": "b0aa2a8b-7fe6-4913-9a15-9433ca94b596",
   "metadata": {},
   "outputs": [
    {
     "data": {
      "text/plain": [
       "int"
      ]
     },
     "execution_count": 17,
     "metadata": {},
     "output_type": "execute_result"
    }
   ],
   "source": [
    "type (q2)"
   ]
  },
  {
   "cell_type": "markdown",
   "id": "b0c805e4-386e-4f5b-8262-3ba8682e0ff0",
   "metadata": {},
   "source": [
    "Q3. How do you convert one data type to another in Python?"
   ]
  },
  {
   "cell_type": "code",
   "execution_count": 14,
   "id": "858727d8-4fbe-4e93-ae22-0048569c196c",
   "metadata": {},
   "outputs": [],
   "source": [
    "#Python defines type conversion functions like int(), float(), str() to directly convert one data type into another.\n",
    "#We can convert any 'int' or 'float' data type into 'str',by puting any numerical value weather it is 'int' or 'float' in ''."
   ]
  },
  {
   "cell_type": "code",
   "execution_count": 18,
   "id": "7f9d2c05-a150-4d71-9076-76c94e2fc544",
   "metadata": {},
   "outputs": [],
   "source": [
    "q3 = 2"
   ]
  },
  {
   "cell_type": "code",
   "execution_count": 20,
   "id": "76f4dfbe-829e-4436-a86d-52ad2d0caf97",
   "metadata": {},
   "outputs": [
    {
     "data": {
      "text/plain": [
       "int"
      ]
     },
     "execution_count": 20,
     "metadata": {},
     "output_type": "execute_result"
    }
   ],
   "source": [
    "type (q3)"
   ]
  },
  {
   "cell_type": "code",
   "execution_count": 25,
   "id": "2166bc60-a494-4629-9153-b3beb2ddeb2b",
   "metadata": {},
   "outputs": [],
   "source": [
    "q3a = '2' "
   ]
  },
  {
   "cell_type": "code",
   "execution_count": 26,
   "id": "b90c077a-06a2-4c9a-bb19-8070f270c5eb",
   "metadata": {},
   "outputs": [
    {
     "data": {
      "text/plain": [
       "str"
      ]
     },
     "execution_count": 26,
     "metadata": {},
     "output_type": "execute_result"
    }
   ],
   "source": [
    "type (q3a)"
   ]
  },
  {
   "cell_type": "markdown",
   "id": "cc0307d7-d82a-4227-b5e5-f07f3d1ffa73",
   "metadata": {},
   "source": [
    "Q4. How do you write and execute a Python script from the command line?"
   ]
  },
  {
   "cell_type": "markdown",
   "id": "1b36fcbb-56cc-47fc-af74-c23c617f74e7",
   "metadata": {},
   "source": [
    "A4. - We can write any code or any script in command line by using our mind and our keyboard. After completing written portion (code, comment or any script) we need to just hit 'Shift + enter' or 'Ctrl + enter' or 'execute button'"
   ]
  },
  {
   "cell_type": "markdown",
   "id": "b4d3b37e-63de-4382-a4f2-3815f80deff3",
   "metadata": {},
   "source": [
    "Q5. Given a list my_list = [1, 2, 3, 4, 5], write the code to slice the list and obtain the sub-list [2, 3]."
   ]
  },
  {
   "cell_type": "code",
   "execution_count": 27,
   "id": "9e1f8724-1f78-4544-8b30-678aa9b39b88",
   "metadata": {},
   "outputs": [],
   "source": [
    "my_list = [1,2,3,4,5]"
   ]
  },
  {
   "cell_type": "code",
   "execution_count": 28,
   "id": "f8bcfffa-7a2f-4edd-a109-e68d0e0d967f",
   "metadata": {},
   "outputs": [
    {
     "data": {
      "text/plain": [
       "list"
      ]
     },
     "execution_count": 28,
     "metadata": {},
     "output_type": "execute_result"
    }
   ],
   "source": [
    "type (my_list)"
   ]
  },
  {
   "cell_type": "code",
   "execution_count": 34,
   "id": "2e323661-c533-4799-aa79-12cba7bd5c21",
   "metadata": {},
   "outputs": [
    {
     "data": {
      "text/plain": [
       "[2, 3]"
      ]
     },
     "execution_count": 34,
     "metadata": {},
     "output_type": "execute_result"
    }
   ],
   "source": [
    "my_list[1:3]"
   ]
  },
  {
   "cell_type": "markdown",
   "id": "faee245d-ebf9-43df-bfa4-bf0d1cd442aa",
   "metadata": {},
   "source": [
    "Q6. What is a complex number in mathematics, and how is it represented in Python?"
   ]
  },
  {
   "cell_type": "markdown",
   "id": "d93e5ccd-7e59-4345-b390-a8394b80ba86",
   "metadata": {},
   "source": [
    "A6. - Complex numbers are written as a+bi, where a and b are real numbers and \"i\" is an imaginary number called a \"iota.\" For example, 2+3i is a complex number because 2 is a real number and 3i is an imaginary number. We can wite complex number in python also, we can write  in the form of (x + yj) where x and y are real numbers and j is an imaginary number."
   ]
  },
  {
   "cell_type": "code",
   "execution_count": 35,
   "id": "f5ff2d69-3dad-4116-bd85-679d28252763",
   "metadata": {},
   "outputs": [],
   "source": [
    "q6 = 2 + 4j"
   ]
  },
  {
   "cell_type": "code",
   "execution_count": 36,
   "id": "f3ebba9c-5550-420f-b198-0c6985e0697e",
   "metadata": {},
   "outputs": [
    {
     "data": {
      "text/plain": [
       "complex"
      ]
     },
     "execution_count": 36,
     "metadata": {},
     "output_type": "execute_result"
    }
   ],
   "source": [
    "type (q6)"
   ]
  },
  {
   "cell_type": "markdown",
   "id": "f06ae1e7-7587-4a14-b8db-bcd24676588d",
   "metadata": {},
   "source": [
    "Q7. What is the correct way to declare a variable named age and assign the value 25 to it?"
   ]
  },
  {
   "cell_type": "code",
   "execution_count": 1,
   "id": "8d855ec5-f794-4d0a-aa11-97851832bd22",
   "metadata": {},
   "outputs": [],
   "source": [
    "age = 25"
   ]
  },
  {
   "cell_type": "code",
   "execution_count": 2,
   "id": "82987b52-2852-40bf-9f16-d2d60c9e062a",
   "metadata": {},
   "outputs": [
    {
     "data": {
      "text/plain": [
       "int"
      ]
     },
     "execution_count": 2,
     "metadata": {},
     "output_type": "execute_result"
    }
   ],
   "source": [
    "type (age)"
   ]
  },
  {
   "cell_type": "markdown",
   "id": "86ea3c41-f0e2-49ce-8011-c24c15d4aaf4",
   "metadata": {},
   "source": [
    "Q8. Declare a variable named price and assign the value 9.99 to it. What data type does this variable\n",
    "belong to?"
   ]
  },
  {
   "cell_type": "code",
   "execution_count": 3,
   "id": "01763dd9-f102-4f11-a710-f566feee2d3c",
   "metadata": {},
   "outputs": [],
   "source": [
    "price = 9.99"
   ]
  },
  {
   "cell_type": "code",
   "execution_count": 4,
   "id": "ac5e010e-a844-4e77-95d5-e6471f127497",
   "metadata": {},
   "outputs": [
    {
     "data": {
      "text/plain": [
       "float"
      ]
     },
     "execution_count": 4,
     "metadata": {},
     "output_type": "execute_result"
    }
   ],
   "source": [
    "type (price)"
   ]
  },
  {
   "cell_type": "markdown",
   "id": "b702206c-76f8-4840-9ebb-2b69b7ea0789",
   "metadata": {},
   "source": [
    "A8. - Data type of variable named price is 'floating point'"
   ]
  },
  {
   "cell_type": "markdown",
   "id": "1ba98d37-6d87-4bef-b2e3-d8b38a77ef18",
   "metadata": {},
   "source": [
    "Q9. Create a variable named name and assign your full name to it as a string. How would you print the\n",
    "value of this variable?"
   ]
  },
  {
   "cell_type": "code",
   "execution_count": 5,
   "id": "87895b72-731a-469a-bf40-b5aa10174c4e",
   "metadata": {},
   "outputs": [],
   "source": [
    "name = \"Lamb Christian\""
   ]
  },
  {
   "cell_type": "code",
   "execution_count": 6,
   "id": "eda3fe44-ff35-4120-baa4-a24524bb9a08",
   "metadata": {},
   "outputs": [
    {
     "data": {
      "text/plain": [
       "str"
      ]
     },
     "execution_count": 6,
     "metadata": {},
     "output_type": "execute_result"
    }
   ],
   "source": [
    "type (name)"
   ]
  },
  {
   "cell_type": "code",
   "execution_count": 7,
   "id": "12cae99b-4cd6-41f7-b21e-2f0de1920f94",
   "metadata": {},
   "outputs": [
    {
     "name": "stdout",
     "output_type": "stream",
     "text": [
      "Lamb Christian\n"
     ]
    }
   ],
   "source": [
    "print (name)"
   ]
  },
  {
   "cell_type": "markdown",
   "id": "0f8d9e97-3e81-4d6c-bc15-fb62439869e5",
   "metadata": {},
   "source": [
    "A9. - After creating variable named name and assigning full name (ie. \"Lamb Christian\"). Use 'print' command to print value of this variable."
   ]
  },
  {
   "cell_type": "markdown",
   "id": "0f75e3c3-5fba-4605-9416-77439a634478",
   "metadata": {},
   "source": [
    "Q10. Given the string \"Hello, World!\", extract the substring \"World\"."
   ]
  },
  {
   "cell_type": "code",
   "execution_count": 8,
   "id": "3eaf9b19-a67f-4a57-be53-c0128cbb6040",
   "metadata": {},
   "outputs": [],
   "source": [
    "q10 = \"Hello, World\""
   ]
  },
  {
   "cell_type": "code",
   "execution_count": 9,
   "id": "b90ca1a1-7034-419b-af83-84306fda1f6b",
   "metadata": {},
   "outputs": [
    {
     "data": {
      "text/plain": [
       "str"
      ]
     },
     "execution_count": 9,
     "metadata": {},
     "output_type": "execute_result"
    }
   ],
   "source": [
    "type (q10)"
   ]
  },
  {
   "cell_type": "code",
   "execution_count": 10,
   "id": "2323d3e7-d505-4886-87a5-f71c41df645a",
   "metadata": {},
   "outputs": [
    {
     "data": {
      "text/plain": [
       "'World'"
      ]
     },
     "execution_count": 10,
     "metadata": {},
     "output_type": "execute_result"
    }
   ],
   "source": [
    "q10 [7:]"
   ]
  },
  {
   "cell_type": "markdown",
   "id": "70d047df-860f-43f8-a540-5663ca437454",
   "metadata": {},
   "source": [
    "A10 - After creating \"Hello, World\" string, we can usind Index slicing concept for extract substring 'World'. "
   ]
  },
  {
   "cell_type": "markdown",
   "id": "d5c86edc-871b-4e09-80b9-053feb6ab4e7",
   "metadata": {},
   "source": [
    "Q11. Create a variable named \"is_student\" and assign it a boolean value indicating whether you are\n",
    "currently a student or not."
   ]
  },
  {
   "cell_type": "code",
   "execution_count": 11,
   "id": "5e0bd45c-7b54-47fb-ae9c-0b9a844dedb3",
   "metadata": {},
   "outputs": [],
   "source": [
    "is_student = True"
   ]
  },
  {
   "cell_type": "code",
   "execution_count": 14,
   "id": "4a36a0ad-efcc-489c-b736-4189832c8ae8",
   "metadata": {},
   "outputs": [
    {
     "data": {
      "text/plain": [
       "bool"
      ]
     },
     "execution_count": 14,
     "metadata": {},
     "output_type": "execute_result"
    }
   ],
   "source": [
    "type (is_student)"
   ]
  },
  {
   "cell_type": "code",
   "execution_count": null,
   "id": "5aa97cf0-882b-4e68-9e0c-42b29432ae93",
   "metadata": {},
   "outputs": [],
   "source": []
  }
 ],
 "metadata": {
  "kernelspec": {
   "display_name": "Python 3 (ipykernel)",
   "language": "python",
   "name": "python3"
  },
  "language_info": {
   "codemirror_mode": {
    "name": "ipython",
    "version": 3
   },
   "file_extension": ".py",
   "mimetype": "text/x-python",
   "name": "python",
   "nbconvert_exporter": "python",
   "pygments_lexer": "ipython3",
   "version": "3.10.8"
  }
 },
 "nbformat": 4,
 "nbformat_minor": 5
}
